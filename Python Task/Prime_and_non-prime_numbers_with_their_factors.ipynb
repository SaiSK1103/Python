{
 "cells": [
  {
   "cell_type": "markdown",
   "id": "minor-bulgarian",
   "metadata": {},
   "source": [
    "## Python Code for finding prime numbers and non-prime numbers with their factors upto the given integer. "
   ]
  },
  {
   "cell_type": "code",
   "execution_count": 2,
   "id": "stopped-cement",
   "metadata": {},
   "outputs": [
    {
     "name": "stdout",
     "output_type": "stream",
     "text": [
      "Enter Num value: 5\n",
      "2  is a prime number, Factors are:  1 2 \n",
      "3  is a prime number, Factors are:  1 3 \n",
      "4  is not a prime number, Factors are:  1 2 4 \n",
      "5  is a prime number, Factors are:  1 5 \n"
     ]
    }
   ],
   "source": [
    "def factors(num):  \n",
    "    \"\"\"This factors(num) function is used to find the factors of a given number.\"\"\"\n",
    "    if num<0:\n",
    "        print('enter positive number! graterthan 1')\n",
    "    else:\n",
    "        for i in range(1,num+1):\n",
    "            if num%i==0:\n",
    "                print(i, end = ' ')\n",
    "                continue\n",
    "            \n",
    "def prime_numbers(num):\n",
    "    \"\"\"This prime_numbers(num) function is used to find the prime numbers and non-prime numbers of upto given number.\"\"\"\n",
    "    \n",
    "    if num<=2:\n",
    "        print('enter positive number! graterthan 2')\n",
    "    else:\n",
    "        for i in range(2, num+1):\n",
    "            for j in range(2,i):\n",
    "                if i%j==0:\n",
    "                    print(i, ' is not a prime number,', end = ' ')\n",
    "                    print('Factors are: ', end = ' ')\n",
    "                    factors(i)\n",
    "                    print()\n",
    "                    break\n",
    "            else:\n",
    "                print(i, ' is a prime number,', end = ' ')\n",
    "                print('Factors are: ', end = ' ')\n",
    "                \n",
    "                factors(i)\n",
    "                print()\n",
    "                \n",
    "num = int(input('Enter Num value: '))\n",
    "prime_numbers(num)"
   ]
  }
 ],
 "metadata": {
  "kernelspec": {
   "display_name": "Python 3",
   "language": "python",
   "name": "python3"
  },
  "language_info": {
   "codemirror_mode": {
    "name": "ipython",
    "version": 3
   },
   "file_extension": ".py",
   "mimetype": "text/x-python",
   "name": "python",
   "nbconvert_exporter": "python",
   "pygments_lexer": "ipython3",
   "version": "3.9.0"
  }
 },
 "nbformat": 4,
 "nbformat_minor": 5
}
