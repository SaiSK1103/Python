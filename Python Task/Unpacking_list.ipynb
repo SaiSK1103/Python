{
 "cells": [
  {
   "cell_type": "markdown",
   "id": "drawn-telescope",
   "metadata": {},
   "source": [
    "# Unpacking nested data structure to a list"
   ]
  },
  {
   "cell_type": "code",
   "execution_count": 1,
   "id": "dominican-columbia",
   "metadata": {},
   "outputs": [],
   "source": [
    "result = []\n",
    "\n",
    "def unpack(data):\n",
    "    \"\"\" Here we are converting nested list to simple list \"\"\"\n",
    "    for i in data:\n",
    "        if type(i) in (int, float, str, complex, bool):\n",
    "            result.append(i)\n",
    "        elif type(i) in (list, tuple, set, frozenset, dict):\n",
    "            unpack(i)\n",
    "    return result"
   ]
  },
  {
   "cell_type": "code",
   "execution_count": 2,
   "id": "spectacular-inspector",
   "metadata": {},
   "outputs": [
    {
     "data": {
      "text/plain": [
       "[1,\n",
       " 3,\n",
       " 5,\n",
       " 'a',\n",
       " 'b',\n",
       " 'Heart',\n",
       " 25.5,\n",
       " True,\n",
       " 143,\n",
       " 1,\n",
       " 2,\n",
       " 'z',\n",
       " 'y',\n",
       " 'x',\n",
       " 1,\n",
       " 7,\n",
       " 8,\n",
       " 13,\n",
       " 4,\n",
       " 5,\n",
       " 5,\n",
       " 6,\n",
       " 0,\n",
       " 5,\n",
       " 4]"
      ]
     },
     "execution_count": 2,
     "metadata": {},
     "output_type": "execute_result"
    }
   ],
   "source": [
    "li = [1, 3, 5, ['a', 'b'], {25.5, True, 'Heart', 143}, {1:'b', 2:'v'}, ('z', 'y', 'x', 1, 7, 8), [13,4,5,[5,6,[0,5,4]]]]\n",
    "unpack(li)"
   ]
  }
 ],
 "metadata": {
  "kernelspec": {
   "display_name": "Python 3",
   "language": "python",
   "name": "python3"
  },
  "language_info": {
   "codemirror_mode": {
    "name": "ipython",
    "version": 3
   },
   "file_extension": ".py",
   "mimetype": "text/x-python",
   "name": "python",
   "nbconvert_exporter": "python",
   "pygments_lexer": "ipython3",
   "version": "3.9.0"
  }
 },
 "nbformat": 4,
 "nbformat_minor": 5
}
