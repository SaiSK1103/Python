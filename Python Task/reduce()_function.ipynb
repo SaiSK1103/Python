{
 "cells": [
  {
   "cell_type": "markdown",
   "id": "alleged-uganda",
   "metadata": {},
   "source": [
    "# <u>**reduce() function**</u>\n",
    "\n",
    "**Syntax of reduce function is as follows :**\n",
    "\n",
    "### ***reduce(function, iterable[, initializer])***\n",
    "\n",
    "  Apply function of two arguments cumulatively to the items of iterable, from left to right, so as to reduce the iterable to a single value. \n",
    "  \n",
    "  For example, reduce(lambda x, y: x+y, [1, 2, 3, 4, 5]) \n",
    "  1.  calculates ((((1+2)+3)+4)+5). \n",
    "  2.  The left argument, x, is the accumulated value and the right argument, y, is the update value from the iterable. \n",
    "  3.  If the optional initializer is present, it is placed before the items of the iterable in the calculation, and serves as a default when the iterable is empty. \n",
    "  4.  If initializer is not given and iterable contains only one item, the first item is returned.\n"
   ]
  },
  {
   "cell_type": "code",
   "execution_count": 1,
   "id": "golden-photographer",
   "metadata": {},
   "outputs": [
    {
     "data": {
      "text/plain": [
       "10"
      ]
     },
     "execution_count": 1,
     "metadata": {},
     "output_type": "execute_result"
    }
   ],
   "source": [
    "# import reduce from functools\n",
    "\n",
    "from functools import reduce\n",
    "\n",
    "reduce(lambda x,y: x+y, [1,2,3,4])"
   ]
  },
  {
   "cell_type": "markdown",
   "id": "reported-difficulty",
   "metadata": {},
   "source": [
    "### How reduce function works?\n",
    "    1.  First step, it executes (1 + 2) which returns 3\n",
    "    2.  Second step, 3 from first step will be added to 3 (which is third value of the list) and returns 6\n",
    "    3.  Third step, 6 from second step will be added to 4 and returns 10"
   ]
  },
  {
   "cell_type": "markdown",
   "id": "copyrighted-custody",
   "metadata": {},
   "source": [
    "### Factorial of number using Lambda function."
   ]
  },
  {
   "cell_type": "code",
   "execution_count": 2,
   "id": "veterinary-gender",
   "metadata": {},
   "outputs": [
    {
     "name": "stdout",
     "output_type": "stream",
     "text": [
      "Enter number to find factorial: 5\n"
     ]
    },
    {
     "data": {
      "text/plain": [
       "120"
      ]
     },
     "execution_count": 2,
     "metadata": {},
     "output_type": "execute_result"
    }
   ],
   "source": [
    "# import reduce function from functools\n",
    "\n",
    "from functools import reduce\n",
    "\n",
    "n = int(input('Enter number to find factorial: '))\n",
    "\n",
    "a = lambda x,y: x*y  # lambda function multiplication of a two variables\n",
    "reduce(a,[x for x in range(1,n+1)])"
   ]
  }
 ],
 "metadata": {
  "kernelspec": {
   "display_name": "Python 3",
   "language": "python",
   "name": "python3"
  },
  "language_info": {
   "codemirror_mode": {
    "name": "ipython",
    "version": 3
   },
   "file_extension": ".py",
   "mimetype": "text/x-python",
   "name": "python",
   "nbconvert_exporter": "python",
   "pygments_lexer": "ipython3",
   "version": "3.9.0"
  }
 },
 "nbformat": 4,
 "nbformat_minor": 5
}
