{
 "cells": [
  {
   "cell_type": "markdown",
   "id": "surgical-terror",
   "metadata": {},
   "source": [
    "## Convert String to Variable Name Using globals() and locals() in Python"
   ]
  },
  {
   "cell_type": "markdown",
   "id": "agricultural-rates",
   "metadata": {},
   "source": [
    "### globals()\n",
    "\n",
    "The globals() function in Python returns the dictionary of the current global symbol table. A global symbol table stores all the information related to the program’s global scope, which can be accessed using the globals() function.\n",
    "\n"
   ]
  },
  {
   "cell_type": "code",
   "execution_count": 1,
   "id": "restricted-wright",
   "metadata": {},
   "outputs": [
    {
     "data": {
      "text/plain": [
       "50"
      ]
     },
     "execution_count": 1,
     "metadata": {},
     "output_type": "execute_result"
    }
   ],
   "source": [
    "alpha = 'value_1'   # assigning 'value_1' to varibale alpha\n",
    "globals()[alpha] = 50   # assigning value '50' to alpha value\n",
    "value_1"
   ]
  },
  {
   "cell_type": "code",
   "execution_count": 2,
   "id": "wooden-primary",
   "metadata": {},
   "outputs": [
    {
     "name": "stdout",
     "output_type": "stream",
     "text": [
      "Enter variable name: value_2\n"
     ]
    }
   ],
   "source": [
    "globals()[input('Enter variable name: ')] = 45  # creating varible from user input"
   ]
  },
  {
   "cell_type": "code",
   "execution_count": 3,
   "id": "listed-copying",
   "metadata": {},
   "outputs": [
    {
     "name": "stdout",
     "output_type": "stream",
     "text": [
      "45\n"
     ]
    }
   ],
   "source": [
    "print(value_2)  # printing "
   ]
  },
  {
   "cell_type": "markdown",
   "id": "endless-funds",
   "metadata": {},
   "source": [
    "### locals()\n",
    "\n",
    "The locals() function in Python returns the dictionary of the current local symbol table. A local symbol table can be accessed with the help of the locals() function. The locals() function almost works the same way as the globals() function. The only difference is that locals() can access the local symbol table, and globals() can access the global symbol table and returns a dictionary."
   ]
  },
  {
   "cell_type": "code",
   "execution_count": 4,
   "id": "modified-choir",
   "metadata": {},
   "outputs": [
    {
     "data": {
      "text/plain": [
       "50"
      ]
     },
     "execution_count": 4,
     "metadata": {},
     "output_type": "execute_result"
    }
   ],
   "source": [
    "alpha = 'value_1'   # assigning 'value_1' to varibale alpha\n",
    "locals()[alpha] = 50   # assigning value '50' to alpha value\n",
    "value_1"
   ]
  },
  {
   "cell_type": "code",
   "execution_count": 5,
   "id": "accredited-mason",
   "metadata": {},
   "outputs": [
    {
     "name": "stdout",
     "output_type": "stream",
     "text": [
      "Enter variable name: value_2\n"
     ]
    }
   ],
   "source": [
    "locals()[input('Enter variable name: ')] = 45  # creating varible from user input"
   ]
  },
  {
   "cell_type": "code",
   "execution_count": 6,
   "id": "amino-ethnic",
   "metadata": {},
   "outputs": [
    {
     "name": "stdout",
     "output_type": "stream",
     "text": [
      "45\n"
     ]
    }
   ],
   "source": [
    "print(value_2)  # printing "
   ]
  },
  {
   "cell_type": "markdown",
   "id": "advised-formation",
   "metadata": {},
   "source": [
    "This code also works the same way as that of globals(). The only difference is that we have used the function locals() here."
   ]
  }
 ],
 "metadata": {
  "kernelspec": {
   "display_name": "Python 3",
   "language": "python",
   "name": "python3"
  },
  "language_info": {
   "codemirror_mode": {
    "name": "ipython",
    "version": 3
   },
   "file_extension": ".py",
   "mimetype": "text/x-python",
   "name": "python",
   "nbconvert_exporter": "python",
   "pygments_lexer": "ipython3",
   "version": "3.9.0"
  }
 },
 "nbformat": 4,
 "nbformat_minor": 5
}
